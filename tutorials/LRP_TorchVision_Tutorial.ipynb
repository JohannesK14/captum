{
 "metadata": {
  "language_info": {
   "codemirror_mode": {
    "name": "ipython",
    "version": 3
   },
   "file_extension": ".py",
   "mimetype": "text/x-python",
   "name": "python",
   "nbconvert_exporter": "python",
   "pygments_lexer": "ipython3",
   "version": 3
  },
  "orig_nbformat": 2
 },
 "nbformat": 4,
 "nbformat_minor": 2,
 "cells": [
  {
   "source": [
    "# LRP Tutorial for Pretrained VGG16 Model"
   ],
   "cell_type": "markdown",
   "metadata": {}
  },
  {
   "source": [
    "This notebook demonstrates how to apply the Layer-Wise Relevance Propagation (LRP) algorithm on a pretrained VGG16 model using a sample image.\n",
    "\n",
    "The relevance of each pixel is visualized by overlaying them on the example image.\n",
    "\n",
    "Further details regarding the operating principles of LRP can be found at [heatmapping.org](http://heatmapping.org/) and [here](https://www.springerprofessional.de/layer-wise-relevance-propagation-an-overview/17153814).\n",
    "\n",
    "The tutorial uses the same sample image and rule configuration as in [this](https://git.tu-berlin.de/gmontavon/lrp-tutorial) PyTorch implemenation.\n",
    "\n",
    "\n",
    "\n",
    "\n",
    "Note: TODO hint required external libraries.\n",
    "\n",
    "\n",
    "\n",
    "This notebook demonstrates how to apply model interpretability algorithms on pretrained ResNet model using a handpicked image and visualizes the attributions for each pixel by overlaying them on the image.\n",
    "\n",
    "The interpretation algorithms that we use in this notebook are Integrated Gradients (w/ and w/o noise tunnel), GradientShap, and Occlusion. A noise tunnel allows to smoothen the attributions after adding gaussian noise to each input sample.\n",
    "\n",
    "Note: Before running this tutorial, please install the torchvision, PIL, and matplotlib packages.\n",
    "\n"
   ],
   "cell_type": "markdown",
   "metadata": {}
  },
  {
   "source": [
    "path_image = \"C:\\\\Users\\\\jwkuenzel\\\\projects\\\\CVG_Deweathering\\\\project\\\\castle.jpg\""
   ],
   "cell_type": "code",
   "metadata": {},
   "execution_count": null,
   "outputs": []
  },
  {
   "cell_type": "code",
   "execution_count": null,
   "metadata": {},
   "outputs": [],
   "source": []
  }
 ]
}